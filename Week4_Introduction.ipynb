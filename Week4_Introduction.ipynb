{
    "nbformat_minor": 1, 
    "cells": [
        {
            "source": "# <center>The Battle of Neighborhoods - Part1</center>", 
            "cell_type": "markdown", 
            "metadata": {
                "collapsed": true
            }
        }, 
        {
            "source": "## Introduction", 
            "cell_type": "markdown", 
            "metadata": {}
        }, 
        {
            "source": "The intention on this project is to collect and provide a data driven recommendation regarding the places of stay/visit to Singapore based on the venue recommendations being gathered from the past experience of respective travellers and the major tourist attractions. ", 
            "cell_type": "markdown", 
            "metadata": {}
        }, 
        {
            "source": "## Detailed Problem Statement ", 
            "cell_type": "markdown", 
            "metadata": {}
        }, 
        {
            "source": "Singapore is a small country and one of the most visited countries in Asia. There are a lot of websites where travellers can check and retrieve recommendations of places to stay or visit. However, most of these websites provides recommendation simply based on usual tourist attractions or key residential areas that are mostly expensive or already known for travellers based on certain keywords like \"Hotel\", or \"Backpackers\" etc. The intention on this project is to collect and provide a data driven recommendation that can supplement the recommendation with statistical data. This will also be utilizing data retrieved from Singapore open data sources and FourSquare API venue recommendations.<br>", 
            "cell_type": "markdown", 
            "metadata": {}
        }, 
        {
            "source": "The sample recommender in this notebook will provide the following use case scenario:", 
            "cell_type": "markdown", 
            "metadata": {}
        }, 
        {
            "source": "- A person planning to visit Singapore as a Tourist or an Expat and looking for a reasonable accommodation.<br>\n- The user wants to receive venue recommendation where he can stay or rent an HDB apartment with close proximity to places of interest or search category option.<br>\n- The recommendation should not only present the most viable option, but also present a comparison table of all possible town venues.<br>\n\nFor this demonstration, this notebook will make use of the following data:\n\n- Singapore Median Rental Prices by town.\n- Popular Food venues in the vicinity. (Sample category selection)<br>\n\nNote: While this demo makes use of Food Venue Category, Other possible categories can also be used for the same implementation such as checking categories like:\n\n- Outdoors and Recreation\n- Nightlife\n- Nearby Schools, etc.<br>\n", 
            "cell_type": "markdown", 
            "metadata": {}
        }, 
        {
            "execution_count": null, 
            "cell_type": "code", 
            "metadata": {}, 
            "outputs": [], 
            "source": ""
        }
    ], 
    "metadata": {
        "kernelspec": {
            "display_name": "Python 3.6", 
            "name": "python3", 
            "language": "python"
        }, 
        "language_info": {
            "mimetype": "text/x-python", 
            "nbconvert_exporter": "python", 
            "version": "3.6.8", 
            "name": "python", 
            "file_extension": ".py", 
            "pygments_lexer": "ipython3", 
            "codemirror_mode": {
                "version": 3, 
                "name": "ipython"
            }
        }
    }, 
    "nbformat": 4
}